{
 "cells": [
  {
   "cell_type": "markdown",
   "metadata": {},
   "source": [
    "# RO47002 Machine Learning for Robotics\n",
    "* (c) TU Delft, 2024\n",
    "* Period: 2024-2025, Q1\n",
    "* Course homepage: https://brightspace.tudelft.nl/d2l/home/682421"
   ]
  },
  {
   "cell_type": "markdown",
   "metadata": {},
   "source": [
    "Make sure you fill in any place that says `YOUR CODE HERE` or `YOUR ANSWER HERE`. Moreover, if you see an empty cell, please DO NOT delete it, instead run that cell as you would run all other cells. Please fill in your name(s) and other required details below:"
   ]
  },
  {
   "cell_type": "code",
   "execution_count": null,
   "metadata": {},
   "outputs": [],
   "source": [
    "GROUP_NUMBER = \"\"\n",
    "STUDENT_NAME1 = \"\"\n",
    "STUDENT_NUMBER1 = \"\"\n",
    "STUDENT_NAME2 = \"\"\n",
    "STUDENT_NUMBER2 = \"\""
   ]
  },
  {
   "cell_type": "code",
   "execution_count": null,
   "metadata": {
    "deletable": false,
    "editable": false,
    "nbgrader": {
     "cell_type": "code",
     "checksum": "e3f76d6a626db81c484191482b101edb",
     "grade": true,
     "grade_id": "cell-c35e4c8223095209",
     "locked": true,
     "points": 0,
     "schema_version": 3,
     "solution": false,
     "task": false
    }
   },
   "outputs": [],
   "source": [
    "# Note: this block is a check that you have filled in the above information.\n",
    "# It will throw an AssertionError until all fields are filled\n",
    "assert(GROUP_NUMBER != \"\")\n",
    "assert(STUDENT_NAME1 != \"\")\n",
    "assert(STUDENT_NUMBER1 != \"\")\n",
    "assert(STUDENT_NAME2 != \"\")\n",
    "assert(STUDENT_NUMBER2 != \"\")"
   ]
  },
  {
   "cell_type": "markdown",
   "metadata": {},
   "source": [
    "### General announcements\n",
    "\n",
    "* Do *not* share your solutions, and do *not* copy solutions from others. By submitting your solutions, you claim that you and your lab partner alone are responsible for this code.\n",
    "\n",
    "* Do *not* email questions directly, since we want to provide everybody with the same information and avoid repeating the same answers. Instead, please post your questions regarding this assignment in the correct support forum on Brightspace, this way everybody can benefit from the response. If you do have a particular question that you want to ask directly, please use the scheduled practicum hours to ask a TA.\n",
    "\n",
    "* There is a strict deadline for each assignment. Students are responsible to ensure that they have uploaded their work in time. So, please double check that your upload succeeded to the Brightspace and avoid any late penalties.\n",
    "\n",
    "* This [Jupyter notebook](https://jupyter.org/) uses `nbgrader` to help us with automated tests. `nbgrader` will make various cells in this notebook \"uneditable\" or \"unremovable\" and gives them a special id in the cell metadata. This way, when we run our checks, the system will check the existence of the cell ids and verify the number of points and which checks must be run. While there are ways that you can edit the metadata and work around the restrictions to delete or modify these special cells, you should not do that since then our nbgrader backend will not be able to parse your notebook and give you points for the assignment. You are free to add additional cells, but if you find a cell that you cannot modify or remove, please know that this is on purpose.\n",
    "\n",
    "* This notebook will have in various places a line that throws a `NotImplementedError` exception. These are locations where the assignment requires you to adapt the code! These lines are just there as a reminder for youthat you have not yet adapted that particular piece of code, especially when you execute all the cells. Once your solution code replaced these lines, it should accordingly *not* throw any exceptions anymore.\n",
    "\n",
    "Before you turn this problem in, make sure everything runs as expected. First, **restart the kernel** (in the menubar, select Kernel$\\rightarrow$Restart) and then **run all cells** (in the menubar, select Cell$\\rightarrow$Run All)."
   ]
  },
  {
   "cell_type": "markdown",
   "metadata": {},
   "source": [
    "---"
   ]
  },
  {
   "cell_type": "markdown",
   "metadata": {},
   "source": [
    "# RO4702 - Practicum week 2 - Annotator\n",
    "\n",
    "* Topic: Data collection\n",
    "* Year: 2024-2025\n",
    "* Book chapters: 2, 3"
   ]
  },
  {
   "cell_type": "markdown",
   "metadata": {},
   "source": [
    "### Installation\n",
    "\n",
    "Install the required dependency:\n",
    "\n",
    "```bash\n",
    "pip install ipympl\n",
    "```\n",
    "\n",
    "### Usage\n",
    "- Left Click: Label the tip.\n",
    "- Right Click: Label the end.\n",
    "- Use the slider to switch images after labeling.\n",
    "- Save annotations periodically with the \"Save\" button (display(save_button))."
   ]
  },
  {
   "cell_type": "code",
   "execution_count": null,
   "metadata": {},
   "outputs": [],
   "source": [
    "# Python ≥3.5 is required\n",
    "import sys\n",
    "assert sys.version_info >= (3, 5)\n",
    "\n",
    "# Scikit-Learn ≥0.20 is required\n",
    "import sklearn\n",
    "assert sklearn.__version__ >= \"0.20\"\n",
    "\n",
    "# Common imports\n",
    "import numpy as np\n",
    "import glob, os\n",
    "import pickle\n",
    "import skimage\n",
    "import skimage.transform\n",
    "\n",
    "# to make this notebook's output stable across runs\n",
    "np.random.seed(42)\n",
    "\n",
    "# To plot pretty figures\n",
    "import matplotlib as mpl\n",
    "import matplotlib.pyplot as plt\n",
    "mpl.rc('axes', labelsize=14)\n",
    "mpl.rc('xtick', labelsize=12)\n",
    "mpl.rc('ytick', labelsize=12)"
   ]
  },
  {
   "cell_type": "code",
   "execution_count": null,
   "metadata": {},
   "outputs": [],
   "source": [
    "import ipywidgets as widgets\n",
    "from ipywidgets import interact, interactive, IntSlider\n",
    "from IPython.display import display\n",
    "\n",
    "import matplotlib.patches as patches"
   ]
  },
  {
   "cell_type": "markdown",
   "metadata": {},
   "source": [
    "Replace the path below with the path to your image folder"
   ]
  },
  {
   "cell_type": "code",
   "execution_count": null,
   "metadata": {},
   "outputs": [],
   "source": [
    "IMAGE_DIR = '/path/to/your/images/'"
   ]
  },
  {
   "cell_type": "markdown",
   "metadata": {},
   "source": [
    "## Get the Data"
   ]
  },
  {
   "cell_type": "markdown",
   "metadata": {},
   "source": [
    "Read an image, and visualize it"
   ]
  },
  {
   "cell_type": "markdown",
   "metadata": {},
   "source": [
    "## Load all images"
   ]
  },
  {
   "cell_type": "code",
   "execution_count": null,
   "metadata": {},
   "outputs": [],
   "source": [
    "filenames = glob.glob(os.path.join(IMAGE_DIR, '*.jpg'))\n",
    "filenames = sorted(filenames)\n",
    "N = len(filenames)\n",
    "print(f'found {N} images in target directory')"
   ]
  },
  {
   "cell_type": "code",
   "execution_count": null,
   "metadata": {},
   "outputs": [],
   "source": [
    "MAX_SIZE = 1024\n",
    "\n",
    "def load_and_resize_image(filename, overwrite=False):\n",
    "    print(f'loading \"{filename}\" ...')\n",
    "    I = plt.imread(filename)\n",
    "    \n",
    "    # is the width or height too large?\n",
    "    oversize_ratio = max(I.shape[0] / MAX_SIZE, I.shape[1] / MAX_SIZE)\n",
    "    if oversize_ratio > 1.0:\n",
    "        print('resizing image ...')\n",
    "        I = skimage.transform.rescale(I, (1./oversize_ratio, 1/oversize_ratio, 1), anti_aliasing=True)\n",
    "        \n",
    "        # overwrite the old image file after resizing\n",
    "        if overwrite:\n",
    "            print(f'overwriting \"{filename}\" ...')\n",
    "            plt.imsave(filename, I)\n",
    "            \n",
    "    return I"
   ]
  },
  {
   "cell_type": "code",
   "execution_count": null,
   "metadata": {},
   "outputs": [],
   "source": [
    "overwrite = True\n",
    "\n",
    "Is = [load_and_resize_image(filename, overwrite) for filename in filenames]\n",
    "print('loaded %d images' % len(Is))"
   ]
  },
  {
   "cell_type": "code",
   "execution_count": null,
   "metadata": {},
   "outputs": [],
   "source": [
    "import pickle\n",
    "\n",
    "annot_filename = os.path.join(IMAGE_DIR, 'annots.npy')\n",
    "annot_exists = os.path.isfile(annot_filename)\n",
    "\n",
    "print(f'Looking for annotations file \"{annot_filename}\":', 'found' if annot_exists else 'NOT found')\n",
    "\n",
    "# load annotations\n",
    "if annot_exists:\n",
    "    print('Loading annotations')\n",
    "    annots = pickle.load(open(annot_filename, 'rb'))\n",
    "else:\n",
    "    print('Initializing empty annotations array')\n",
    "    annots = np.zeros((N,4)) # x1, y1, x2, y2"
   ]
  },
  {
   "cell_type": "markdown",
   "metadata": {},
   "source": [
    "### Annotate"
   ]
  },
  {
   "cell_type": "markdown",
   "metadata": {},
   "source": [
    "We will use here `%matplotlib widget` to enable interactive widgets in this notebook. Interactive widgets can take up a lot of memory howeever, so in other notebooks we might prefer to use `%matplotlib inline` to just save plotted results as images without interaction."
   ]
  },
  {
   "cell_type": "code",
   "execution_count": null,
   "metadata": {},
   "outputs": [],
   "source": [
    "%matplotlib widget"
   ]
  },
  {
   "cell_type": "code",
   "execution_count": null,
   "metadata": {},
   "outputs": [],
   "source": [
    "# Initialize a figure and axis globally for continuous updates\n",
    "fig, ax = plt.subplots()\n",
    "\n",
    "# Initialize plot elements for updating\n",
    "plt_points_tip = None\n",
    "plt_points_end = None\n",
    "\n",
    "# Variable to keep track of event connection\n",
    "click_cid = None\n",
    "\n",
    "def annotate_image(idx):\n",
    "    global plt_points_tip, plt_points_end, click_cid\n",
    "\n",
    "    # Clear the axis to prepare for a new image\n",
    "    ax.clear()\n",
    "\n",
    "    # Load the current image\n",
    "    I = Is[idx]\n",
    "\n",
    "    # Display the image\n",
    "    ax.imshow(I)\n",
    "    \n",
    "    # Plot the current annotation points\n",
    "    plt_points_tip, = ax.plot(annots[idx, 0], annots[idx, 1], 'gx', label='tip (left click)')\n",
    "    plt_points_end, = ax.plot(annots[idx, 2], annots[idx, 3], 'rx', label='end (right click)')\n",
    "    ax.legend()\n",
    "\n",
    "    def onclick(event):\n",
    "        # Check if the click occurred within the image axis\n",
    "        if event.inaxes != ax:\n",
    "            return  # Ignore clicks outside the image area\n",
    "        \n",
    "        cx, cy = event.xdata, event.ydata  # Get the click coordinates\n",
    "        button = event.button  # 1 for left click, 3 for right click\n",
    "\n",
    "        # Update annotation points based on the click\n",
    "        if button == 1:\n",
    "            plt_points_tip.set_xdata([cx])\n",
    "            plt_points_tip.set_ydata([cy])\n",
    "            annots[idx, 0] = cx  # Update only the relevant index\n",
    "            annots[idx, 1] = cy\n",
    "        elif button == 3:\n",
    "            plt_points_end.set_xdata([cx])\n",
    "            plt_points_end.set_ydata([cy])\n",
    "            annots[idx, 2] = cx  # Update only the relevant index\n",
    "            annots[idx, 3] = cy\n",
    "        \n",
    "        fig.canvas.draw_idle()  # Redraw the figure to reflect updates\n",
    "\n",
    "        # Print the updated annotations for debugging\n",
    "        print(f'Updated annotations for index {idx}: {annots[idx]}')\n",
    "\n",
    "    # Disconnect previous event handlers to prevent duplicates\n",
    "    if click_cid is not None:\n",
    "        fig.canvas.mpl_disconnect(click_cid)\n",
    "\n",
    "    # Connect the click event handler and keep track of the connection ID\n",
    "    click_cid = fig.canvas.mpl_connect('button_press_event', onclick)\n",
    "\n",
    "def on_save_button_clicked(b):\n",
    "    print(f'Saving annotations \"{annot_filename}\"')\n",
    "    pickle.dump(annots, open(annot_filename, 'wb'))\n",
    "\n",
    "save_button = widgets.Button(description=\"Save changes!\")\n",
    "save_button.on_click(on_save_button_clicked)\n",
    "\n",
    "interactive(annotate_image, idx=IntSlider(min=0, max=len(Is)-1, continuous_update=False))"
   ]
  },
  {
   "cell_type": "markdown",
   "metadata": {},
   "source": [
    "### Save your annotations\n",
    "Run the cell below should give us a buttom \"save changes\". Click that buttom and save the annotations into 'annots.npy'"
   ]
  },
  {
   "cell_type": "code",
   "execution_count": null,
   "metadata": {},
   "outputs": [],
   "source": [
    "display(save_button)"
   ]
  }
 ],
 "metadata": {
  "kernelspec": {
   "display_name": "Python 3 (ipykernel)",
   "language": "python",
   "name": "python3"
  },
  "language_info": {
   "codemirror_mode": {
    "name": "ipython",
    "version": 3
   },
   "file_extension": ".py",
   "mimetype": "text/x-python",
   "name": "python",
   "nbconvert_exporter": "python",
   "pygments_lexer": "ipython3",
   "version": "3.10.14"
  }
 },
 "nbformat": 4,
 "nbformat_minor": 4
}
